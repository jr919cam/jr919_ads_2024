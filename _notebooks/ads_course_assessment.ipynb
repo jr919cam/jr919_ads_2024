{
  "nbformat": 4,
  "nbformat_minor": 0,
  "metadata": {
    "colab": {
      "provenance": []
    },
    "kernelspec": {
      "name": "python3",
      "display_name": "Python 3"
    },
    "language_info": {
      "name": "python"
    }
  },
  "cells": [
    {
      "cell_type": "markdown",
      "source": [
        "# Assessment for Advanced Data Science\n",
        "# *Data Pipelines*"
      ],
      "metadata": {
        "id": "-tbzTphJeGlW"
      }
    },
    {
      "cell_type": "markdown",
      "source": [
        "## Radzim Sendyka, Christian Cabrera, Carl Henrik Ek and Neil D. Lawrence\n",
        "\n",
        "### 19 November 2024"
      ],
      "metadata": {
        "id": "vVm3IV8eZPdE"
      }
    },
    {
      "cell_type": "markdown",
      "source": [
        "Welcome to the course assessment for the Advanced Data Science unit. In this assessment, you will build two data pipelines and prediction systems.\n",
        "\n",
        "The maximum total mark for this assessment is 20. That mark is split into two miniprojects below.\n",
        "- The first miniproject is worth 7 marks.\n",
        "- The second miniproject is worth 13 marks.\n",
        "\n",
        "*The check Session for this Assessment is 03 December 2024.*"
      ],
      "metadata": {
        "id": "Evaf5gdVnE0s"
      }
    },
    {
      "cell_type": "markdown",
      "source": [
        "# Task 1 (7 marks)"
      ],
      "metadata": {
        "id": "R_gVPt8Nndjn"
      }
    },
    {
      "cell_type": "markdown",
      "source": [
        "This example project builds on your experience from the practicals, using Open Street Maps, and connecting them to real-world datasets.\n",
        "\n",
        "Your prediction system will be based on data from the 2021 UK Census, and Open Street Maps."
      ],
      "metadata": {
        "id": "2yaFil7l34HD"
      }
    },
    {
      "cell_type": "markdown",
      "source": [
        "### Build a data pipeline and prediction system.\n",
        "\n",
        "Structure your system around the [Access-Assess-Address](https://inverseprobability.com/talks/notes/access-assess-address-a-pipeline-for-automated-data-science.html) framework for automated data science.\n",
        "Use the framework of [Data Readiness Levels](https://inverseprobability.com/publications/data-readiness-levels.html) to track the state of your datasets throughout the process.\n",
        "Visualise your data and predictions using appropriate charts and graphics.\n",
        "Remember, your notebook should tell a story.\n",
        "\n",
        "1.1. Download the data from online sources. In this task you will need:\n",
        "  - UK Census Data\n",
        "    - The UK Census data file for and Socio-economic Classification (NS SEC) [here](https://www.ons.gov.uk/datasets/TS062/editions/2021/versions/5) or [here](https://www.nomisweb.co.uk/sources/census_2021_bulk). Use the most detailed area type (Output Areas).\n",
        "    - One other UK Census data file of your choosing [here](https://www.ons.gov.uk/search?topics=9731,6646,3845,9497,4262,4128,7755,4994,6885,9724,7367&filter=datasets) or [here](https://www.nomisweb.co.uk/sources/census_2021_bulk). Use the most detailed area type available.\n",
        "    - Geographic coordinates of Census Output Areas [here](https://www.data.gov.uk/dataset/4d4e021d-fe98-4a0e-88e2-3ead84538537/output-areas-december-2021-boundaries-ew-bgc-v2).\n",
        "  - Spatial data\n",
        "    - Set up an API connection to Open Street Maps [here](https://osmnx.readthedocs.io/en/stable/). Optionally, to be able to use more data in training, you might want to also download the entire map for England (or more) [here](https://download.openstreetmap.fr/extracts/) or [here](https://wiki.openstreetmap.org/wiki/Planet.osm).\n",
        "\n",
        "1.2. Structure the data, and upload it to your AWS database.\n",
        "\n",
        "- Census datasets can be huge and unwieldy to manipulate directly in python frameworks such as pandas. As a result we will host the data in a relational database.\n",
        "\n",
        "- Using a cloud hosted database (such as MariaDB hosted on the AWS RDS service),  you will construct a database containing tables that contain per-output-area data, latitudes and longitudes of the output areas, and potentially, extracted selected open street maps features from the country-wide data file.\n",
        "\n",
        "- Make sure you set the correct indices on your data, which will allow your code to run much faster. Hint: create an index on any columns you will be looking up, and joint indices if your lookup involves multiple columns (like coordinates).\n",
        "\n",
        "You will likely find the following resources helpful.\n",
        "\n",
        "- Lecture 1, 2 and 3.\n",
        "- Lab class 1 and 2.\n",
        "\n",
        "\n",
        "- *Note, this particular dataset could probably be handled directly in pandas, but you are explicitly tasked with using a database. This is a compromise from previous iterations of this course, where students spent quite a lot of time struggling from the size of the data. This is an opportunity for you to demonstrate your skills, as well as prepare for the second part of the assessment where databases might be necessary. Approach that do not use databases where needed will be penalised during marking.*\n",
        "\n",
        "\n",
        "2.0. Explore the data.\n",
        "\n",
        "  - To make predictions you will augment your data with information obtained from Open Street Map: an open license source of mapping information. You will need to use the techniques you have learnt in the course to indentify and incorporate useful features for your prediction tasks.\n",
        "  - Look at the percentage of students (NS SEC code L15) in the individual output areas, and explore how it's related to various types of open street map features in those locations. Use the relationships you found to suggest the features to be used in a system that predicts percentage of students in a given area.\n",
        "  - Do the same for an additional census variable (e.g., the average age in a given area).\n",
        "\n",
        "3.0. Make a prediction system.\n",
        "- Use Open Street Maps to predict Socio-Economic Status - in particular, the percent of full time students, from OSM features. Your function should take as input a coordinate pair (you can assume it will be in England), and return an estimate for the share of students in that area.\n",
        "\n",
        "- Do the same for the additional census variable you selected in the previous step.\n",
        "\n",
        "Hints:\n",
        "\n",
        "  - *Some of the census data sheets are very detailed. You might want to try \"boiling them down\" to some aggregate value or selecting just the most important columns.*\n",
        "\n",
        "  - *This assignment is focused on data pipelines, rather than machine learning, so we do not expect any advanced architectures here - a linear model or similar is perfectly fine.*\n",
        "  \n",
        "  - *For data exploration, or picking your second dataset, you may find useful the [interactive map](https://www.ons.gov.uk/census/maps/) of the census data.*"
      ],
      "metadata": {
        "id": "jVnzIgd3ZWt0"
      }
    },
    {
      "cell_type": "markdown",
      "source": [
        "### Story.\n",
        "\n",
        "- Remember the notebook you create should tell a story, any code that is not critical to that story can safely be placed into the associated analysis library and imported for use (structured as given in the Fynesse template). Make sure your decisions are well substanciated and flow nicely throughout the notebook, with clear explanations.\n",
        "\n",
        "- Explain everything you do. Why is your question important, why you selected the datasets you did, why did you join them how you did, why did you look at the things you looked at.\n",
        "\n",
        "Make sure in your notebook you discuss the design decisions you made in your pipeline and prediction system. How did you structure your notebook? How did you track data readiness? Which aspects of your system could be improved further?\n",
        "\n",
        "Make sure you compare how you predict student population and your second chosen property. What differences are there, in the underlying data, process, and results?\n",
        "\n",
        "Make sure you discuss the reusability of your data pipeline and prediction system. What changes to the underlying data/system is it resilient to, and what isn't it? What work would need to be done to adjust it to answer questions about other statistics, or a different country, instead?"
      ],
      "metadata": {
        "id": "VAfdUurg4JhM"
      }
    },
    {
      "cell_type": "markdown",
      "source": [
        "### Fynesse library.\n",
        "\n",
        "- Alongside your implementation you will provide a short repository overview describing how you have implemented the different parts of the project and where you have placed those parts in your code repository. You will submit your code alongside a version of this notebook that will allow your examiner to understand and reconstruct the thinking behind your analysis. This notebook is structured to help you in creating that description and allow you to understand how we will allocate the marks. You should make use of the Fynesse framework (https://github.com/lawrennd/fynesse_template) for structuring your code.\n",
        "\n",
        "- One artefact to be included in your submission is a python library structured according to the \"Access, Assess, Address\" standard for data science solutions. You will submit this library alongside your code. Use the cell below to perform the necessary installation instructions for your library.\n",
        "You should base your module on the template repository given by the Fynesse template repository. That should make it pip-installable as below.\n",
        "`%pip install git+https://github.com/lawrennd/fynesse_template.git`. You can either replace fynesse with the name you've given your analysis module or you can leave the name as fynesse if you prefer.\n",
        "\n",
        "- Remember the notebook you create should tell a story, any code that is not critical to that story can safely be placed into the associated analysis library and imported for use (structured as given in the Fynesse template). Remember to include you fynesse library in your submission."
      ],
      "metadata": {
        "id": "VN8V5rhV4CNW"
      }
    },
    {
      "cell_type": "markdown",
      "source": [
        "## Access"
      ],
      "metadata": {
        "id": "s6_rVCxjnzLB"
      }
    },
    {
      "cell_type": "code",
      "source": [
        "# install your library here\n",
        "# %pip install git+https://github.com/lawrennd/fynesse_template.git # TODO: change to your library\n",
        "%pip install osmnx"
      ],
      "metadata": {
        "id": "KjesIa7SoIYO"
      },
      "execution_count": null,
      "outputs": []
    },
    {
      "cell_type": "code",
      "source": [
        "import pandas as pd\n",
        "import numpy as np\n",
        "import osmnx as ox\n",
        "# TODO: more imports here\n",
        "import fynesse"
      ],
      "metadata": {
        "id": "3x_sHEuXn08a"
      },
      "execution_count": null,
      "outputs": []
    },
    {
      "cell_type": "code",
      "source": [
        "# Your code here"
      ],
      "metadata": {
        "id": "zb4p6V8_376U"
      },
      "execution_count": null,
      "outputs": []
    },
    {
      "cell_type": "markdown",
      "source": [
        "Write a short paragraph summarising what you did in the Access stage."
      ],
      "metadata": {
        "id": "8V9nPm-tsXlQ"
      }
    },
    {
      "cell_type": "markdown",
      "source": [
        "## Assess"
      ],
      "metadata": {
        "id": "MIweGJKkn1LW"
      }
    },
    {
      "cell_type": "code",
      "source": [],
      "metadata": {
        "id": "FUy3b7lin2wU"
      },
      "execution_count": null,
      "outputs": []
    },
    {
      "cell_type": "markdown",
      "source": [
        "Write a short paragraph summarising what you did in the Assess stage."
      ],
      "metadata": {
        "id": "Kr5-wBZs1BDT"
      }
    },
    {
      "cell_type": "code",
      "source": [
        "# TODO: your answer here"
      ],
      "metadata": {
        "id": "RpzpG97O1JTs"
      },
      "execution_count": null,
      "outputs": []
    },
    {
      "cell_type": "markdown",
      "source": [
        "## Address"
      ],
      "metadata": {
        "id": "TIzv84Kcn3Dj"
      }
    },
    {
      "cell_type": "code",
      "source": [],
      "metadata": {
        "id": "P9GQVzaBn-YC"
      },
      "execution_count": null,
      "outputs": []
    },
    {
      "cell_type": "code",
      "source": [
        "def estimate_students(latitude: float, longitude: float) -> float:\n",
        "    \"\"\"\n",
        "    Args:\n",
        "    latitude (float): The latitude coordinate.\n",
        "    longitude (float): The longitude coordinate.\n",
        "\n",
        "    Returns:\n",
        "    float: Estimated share of students in that area (value between 0 and 1).\n",
        "    \"\"\"\n",
        "    # TODO: implement\n",
        "    return NotImplementedError\n",
        "\n",
        "\n",
        "def estimate_something(latitude: float, longitude: float) -> float:\n",
        "    #TODO: rename function\n",
        "    \"\"\"\n",
        "    Args:\n",
        "    latitude (float): The latitude coordinate.\n",
        "    longitude (float): The longitude coordinate.\n",
        "\n",
        "    Returns:\n",
        "    float: Estimated value, percentage, probability, etc\n",
        "    \"\"\"\n",
        "    # TODO: implement\n",
        "    return NotImplementedError"
      ],
      "metadata": {
        "id": "Ukm6s3Fyn57t"
      },
      "execution_count": null,
      "outputs": []
    },
    {
      "cell_type": "markdown",
      "source": [
        "Write a short paragraph summarising what you did in the Address stage."
      ],
      "metadata": {
        "id": "ktZ4NrcU1NsX"
      }
    },
    {
      "cell_type": "code",
      "source": [
        "# TODO: your answer here"
      ],
      "metadata": {
        "id": "WQVi5mRF1R7V"
      },
      "execution_count": null,
      "outputs": []
    },
    {
      "cell_type": "markdown",
      "source": [
        "## Discussion"
      ],
      "metadata": {
        "id": "M03wH58P5V3K"
      }
    },
    {
      "cell_type": "markdown",
      "source": [
        "#### Story and structure"
      ],
      "metadata": {
        "id": "0OlifPaO6Twy"
      }
    },
    {
      "cell_type": "code",
      "source": [
        "# Marks awarded for inline explanation and structure, no need for answers here. Go over your notebook to make sure you explain what you did and why."
      ],
      "metadata": {
        "id": "vHe7s9WP8vc_"
      },
      "execution_count": null,
      "outputs": []
    },
    {
      "cell_type": "markdown",
      "source": [
        "#### Design decisions"
      ],
      "metadata": {
        "id": "nQXOZrmh6ZkH"
      }
    },
    {
      "cell_type": "code",
      "source": [
        "# TODO: your answer here"
      ],
      "metadata": {
        "id": "VZpLGlIQ6WOB"
      },
      "execution_count": null,
      "outputs": []
    },
    {
      "cell_type": "markdown",
      "source": [
        "#### Comparison"
      ],
      "metadata": {
        "id": "uXTy0gCJ7FqJ"
      }
    },
    {
      "cell_type": "code",
      "source": [
        "# TODO: your answer here"
      ],
      "metadata": {
        "id": "StIuDGx26YT3"
      },
      "execution_count": null,
      "outputs": []
    },
    {
      "cell_type": "markdown",
      "source": [
        "#### Reusability"
      ],
      "metadata": {
        "id": "DRnOzM_Y7Jt7"
      }
    },
    {
      "cell_type": "code",
      "source": [
        "# TODO: your answer here"
      ],
      "metadata": {
        "id": "XNin895_6YgZ"
      },
      "execution_count": null,
      "outputs": []
    },
    {
      "cell_type": "markdown",
      "source": [
        "# Task 2: miniproject (13 marks)"
      ],
      "metadata": {
        "id": "_L96aZiR4WVL"
      }
    },
    {
      "cell_type": "markdown",
      "source": [
        "We expect your miniproject to be more advanced than the example project, and that's why we allocated more marks to it. The first 7 marks will be allocated similarly to Task 1.\n",
        "\n",
        "6 remaining points are *bonus* - they will be allocated for going far beyond what you did in Task 1, either in data access, assess, address or story."
      ],
      "metadata": {
        "id": "6i81p_90A1at"
      }
    },
    {
      "cell_type": "markdown",
      "source": [
        "#### Choosing your topic\n",
        "\n",
        "You are given a lot of flexibility in choosing a miniproject topic.\n",
        "\n",
        "Some hints:\n",
        "- Your project should be based on the Census, Price Paid, OSM and Election datasets.\n",
        "- It's a good idea to pick something that you are interested in.\n",
        "- Bear in mind there are no marks dedicated to your overall prediction accuracy, so there is no advantage to picking 'easy' topics. It is perfectly ok to not reach significant predictive power, as long as you followed the proper process.\n",
        "\n",
        "Some guidelines:\n",
        "- Do not make a miniproject that furthers discriminatory rhetoric. In general, avoid topics that could be insensitive. If in doubt, message Radzim Sendyka (and *cc* Christian Cabrera) to discuss if this applies to your idea.\n",
        "- Please avoid any projects that would require approval from the ethics comittee.\n",
        "- Pick the scope of your projects that will allow you to show your skills. Some projects might not be challenging enough while others might be hard to make any progress in. Don't be scared to report negative results.\n",
        "\n",
        "Please email Radzim Sendyka (and *cc* Christian Cabrera) with your project idea when you begin working on it, so we can let you know about any potential concerns (eg. potentially insensive, too off-topic, too simple, too complex) as soon as we can. You can change the topic up to the submission deadline, but let us know again in cases of major changes."
      ],
      "metadata": {
        "id": "USNwRwBaCzOC"
      }
    },
    {
      "cell_type": "markdown",
      "source": [
        "Most of the advice from Task 1 still applies, particularly around using an online relational database, structuring your notebook, fynesse, access-assess-address, data readiness levels, hints."
      ],
      "metadata": {
        "id": "pwjwzdgvAGI-"
      }
    },
    {
      "cell_type": "markdown",
      "source": [
        "Sources you may want to include in your data include:\n",
        "\n",
        "  - UK Census Data\n",
        "    - UK Census 2021 data [here](https://www.ons.gov.uk/search?topics=9731,6646,3845,9497,4262,4128,7755,4994,6885,9724,7367&filter=datasets) or [here](https://www.nomisweb.co.uk/sources/census_2021_bulk).\n",
        "    - Historical Census data [here](https://www.ons.gov.uk/census/historiccensusdata).\n",
        "    - Geographic coordinates of Census Output Areas [here](https://www.data.gov.uk/dataset/4d4e021d-fe98-4a0e-88e2-3ead84538537/output-areas-december-2021-boundaries-ew-bgc-v2).\n",
        "  - Spatial data\n",
        "    - You should already have a connection to OpenStreetMaps.\n",
        "    - You might want to also download the entire map for England (or more) [here](https://download.openstreetmap.fr/extracts/) or [here](https://wiki.openstreetmap.org/wiki/Planet.osm).\n",
        "  - Election data\n",
        "    - Recent Election Results data [here](https://commonslibrary.parliament.uk/research-briefings/cbp-10009/)\n",
        "    - Historical Election Results data [here](https://commonslibrary.parliament.uk/research-briefings/cbp-8647/#fullreport).\n",
        "    - Lookup reference between Output Areas and Parliamentary Constituencies [here](https://geoportal.statistics.gov.uk/datasets/5968b5b2c0f14dd29ba277beaae6dec3_0/explore).\n",
        "  - Price Paid Data\n",
        "    - You should have this data already in your database.\n",
        "  - OSM\n",
        "    - You should know how to access this data from previous practicals."
      ],
      "metadata": {
        "id": "9i6X92QHnuAT"
      }
    },
    {
      "cell_type": "markdown",
      "source": [
        "Example ideas:\n",
        "\n",
        "- Are areas correlated in terms of census results? If so, find the areas that are leading change, and the ones that are following.\n",
        "- Which historical census variables used to predict election results in the past, but don't seem related anymore?\n",
        "- Census results are only updated once a decade, but new roads and houses are built every year. Can census results, for example those relating to travel, be predicted from basic map information, such as street networks?\n",
        "- Building new houses is our best way of tackling the housing crisis. Use the information on new builds in the house prices dataset to explore what factors drive new developments, and make predictions for where the next houses will be built.\n",
        "- House styles differ a lot between regions and inhabitants. Can you make any predictions about the house or area simply from looking at it's geometric shape and orientation?\n",
        "\n",
        "Note that the ideas are just a starting point question. You should include more in-depth investigations into the data, validate your findings where applicable, and prepare visualisations."
      ],
      "metadata": {
        "id": "C0etneFRoDRx"
      }
    },
    {
      "cell_type": "markdown",
      "source": [
        "## Title and description"
      ],
      "metadata": {
        "id": "8lW1FTFyBFFr"
      }
    },
    {
      "cell_type": "code",
      "source": [
        "# TODO: title your miniproject"
      ],
      "metadata": {
        "id": "k225EcHeA_aV"
      },
      "execution_count": null,
      "outputs": []
    },
    {
      "cell_type": "code",
      "source": [
        "# TODO: provide a very brief description of the goals of your miniproject"
      ],
      "metadata": {
        "id": "gtVWDrKcBIVJ"
      },
      "execution_count": null,
      "outputs": []
    },
    {
      "cell_type": "markdown",
      "source": [
        "## TODO: Your Project Goes Here"
      ],
      "metadata": {
        "id": "6UH7IY3aBml-"
      }
    },
    {
      "cell_type": "code",
      "source": [],
      "metadata": {
        "id": "fBlEztj4ZqqN"
      },
      "execution_count": null,
      "outputs": []
    },
    {
      "cell_type": "markdown",
      "source": [
        "## Conclusions\n",
        "\n",
        "The below code is for marking purpuses only, and not part of your project. It helps us gather the data we need without asking you for database credentials, and scouring github pages. This is mandatory. If the code does not work for you, let us know immediately."
      ],
      "metadata": {
        "id": "jjIIXwV2HYFT"
      }
    },
    {
      "cell_type": "markdown",
      "source": [
        "1) Please re-run the code from Practical 1 to help us see the contents of your database. We recommend you include all data sources there, but some smaller inputs are fine to use as files."
      ],
      "metadata": {
        "id": "9ccS8vrjHbh3"
      }
    },
    {
      "cell_type": "code",
      "source": [
        "tables = %sql SHOW TABLES;\n",
        "\n",
        "for row in tables:\n",
        "    table_name = row[0]\n",
        "    print(f\"\\nTable: {table_name}\")\n",
        "\n",
        "    table_status = %sql SHOW TABLE STATUS LIKE '{table_name}';\n",
        "    approx_row_count = table_status[0][4] if table_status else 'Unable to fetch row count'\n",
        "    print(\"\\nApprox Row Count:\", approx_row_count//100000/10, \"M\")\n",
        "\n",
        "    first_5_rows = %sql SELECT * FROM `{table_name}` LIMIT 5;\n",
        "    print(first_5_rows)\n",
        "\n",
        "    indices = %sql SHOW INDEX FROM `{table_name}`;\n",
        "    if indices:\n",
        "        print(\"\\nIndices:\")\n",
        "        for index in indices:\n",
        "            print(f\" - {index[2]} ({index[10]}): Column {index[4]}\")\n",
        "    else:\n",
        "        print(\"\\nNo indices set on this table.\")"
      ],
      "metadata": {
        "id": "XNLYfO92HZ_G"
      },
      "execution_count": null,
      "outputs": []
    },
    {
      "cell_type": "markdown",
      "source": [
        "2) Please paste a link to your fynesse library below, and make sure it's publically accessible. Also run the code below, and make sure it worked, printing out the contents of your library."
      ],
      "metadata": {
        "id": "E8r6UgTsHmms"
      }
    },
    {
      "cell_type": "code",
      "source": [
        "fynesse_url = '<your-url-library-here>'"
      ],
      "metadata": {
        "id": "CqbzdvzhJTMN"
      },
      "execution_count": null,
      "outputs": []
    },
    {
      "cell_type": "code",
      "source": [
        "import fynesse\n",
        "import os\n",
        "\n",
        "print('FYNESSE STRUCTURE:')\n",
        "package_path = os.path.dirname(fynesse.__file__)\n",
        "for root, dirs, files in os.walk(package_path):\n",
        "    level = root.replace(package_path, '').count(os.sep)\n",
        "    indent = ' ' * 4 * level\n",
        "    print(f\"{indent}{os.path.basename(root)}/\")\n",
        "    sub_indent = ' ' * 4 * (level + 1)\n",
        "    for f in files:\n",
        "        print(f\"{sub_indent}{f}\")\n",
        "\n",
        "print('FILE CONTENTS')\n",
        "for root, dirs, files in os.walk(package_path):\n",
        "    for file in files:\n",
        "        file_path = os.path.join(root, file)\n",
        "        print(f\"--- Contents of {file_path} ---\\n\")\n",
        "        try:\n",
        "            with open(file_path, \"r\", encoding=\"utf-8\") as f:\n",
        "                print(f.read())\n",
        "        except Exception as e:\n",
        "            print(f\"Could not read {file_path}: {e}\")\n",
        "        print(\"\\n\" + \"-\" * 50 + \"\\n\")"
      ],
      "metadata": {
        "id": "2h-g3gEhHq0b"
      },
      "execution_count": null,
      "outputs": []
    }
  ]
}